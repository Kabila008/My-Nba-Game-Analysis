{
  "nbformat": 4,
  "nbformat_minor": 0,
  "metadata": {
    "colab": {
      "provenance": []
    },
    "kernelspec": {
      "name": "python3",
      "display_name": "Python 3"
    },
    "language_info": {
      "name": "python"
    }
  },
  "cells": [
    {
      "cell_type": "code",
      "execution_count": 1,
      "metadata": {
        "id": "6KkeEt9morxz"
      },
      "outputs": [],
      "source": [
        "# importing relevant module\n",
        "import csv\n",
        "import re\n",
        "from collections import defaultdict\n",
        "\n"
      ]
    },
    {
      "cell_type": "code",
      "source": [
        "# function to read a file located at the given file_path with a pipe-separated values format\n",
        "def content(file_path):\n",
        "    with open(file_path, 'r') as file:\n",
        "        return [block for block in csv.reader(file, delimiter='|')][1:]\n"
      ],
      "metadata": {
        "id": "itxM70w7rMTG"
      },
      "execution_count": 2,
      "outputs": []
    },
    {
      "cell_type": "code",
      "source": [
        "# function to process basketball-related data, and organize it into a structured format that includes team names and player statistics.\n",
        "def assemble(variation):\n",
        "    outcome = {\"home_team\": {\"name\": \"\", \"players_data\": []}, \"away_team\": {\"name\": \"\", \"players_data\": []}}\n",
        "\n",
        "    # Extract home and away team names from the first play\n",
        "    away_team_name, home_team_name = variation[0][3], variation[0][4]\n",
        "\n",
        "    # Initialize participant details lists for home and away teams\n",
        "    home_team = outcome[\"home_team\"][\"players_data\"]\n",
        "    away_team = outcome[\"away_team\"][\"players_data\"]\n",
        "\n",
        "    for trend in variation:\n",
        "        quality_home_team, important_group, current_plan = trend[4], trend[2], trend[7]\n",
        "\n",
        "        # Use regex to match the participant name in the trend description\n",
        "        good_fit = re.match(r\"^([A-Z]\\. [A-Z]\\w{1,}|[A-Z]\\. [A-Z]\\w{1,}\\-\\w{1,})\", current_plan)\n",
        "\n",
        "        if good_fit:\n",
        "            player_name = good_fit.group(1)\n",
        "\n",
        "            participant = {\n",
        "                        \"player_name\": player_name,\n",
        "                        \"FG\": 0, \"3P\": 0, \"3PM\": 0, \"3PA\": 0,\n",
        "                        \"2P\": 0, \"2PM\": 0,\n",
        "                        \"FT\": 0, \"FTM\": 0, \"FTA\": 0,\n",
        "                        \"ORB\": 0, \"DRB\": 0, \"TRB\": 0,\n",
        "                        \"AST\": 0, \"STL\": 0, \"BLK\": 0,\n",
        "                        \"TOV\": 0, \"PF\": 0, \"PTS\": 0,\n",
        "                        \"MCPFT\": 0, \"MICPFT\": 0\n",
        "                    }\n",
        "\n",
        "            # Determine the desired team's participant details list\n",
        "            desired_group = home_team if important_group == home_team_name else away_team\n",
        "\n",
        "            # Add participant to the desired team's players_data if not already present\n",
        "            if participant not in desired_group:\n",
        "                desired_group.append(participant)\n",
        "\n",
        "    # Set the extracted team names\n",
        "    outcome[\"home_team\"][\"name\"] = home_team_name\n",
        "    outcome[\"away_team\"][\"name\"] = away_team_name\n",
        "\n",
        "    return outcome\n",
        "\n"
      ],
      "metadata": {
        "id": "YRi8axK9o6gH"
      },
      "execution_count": 3,
      "outputs": []
    },
    {
      "cell_type": "code",
      "source": [
        "# extract patterns and relevant information to match events and update player statistics accordingly\n",
        "def directory():\n",
        "    patterns = [\n",
        "        \"makes 3-pt\", \"misses 3-pt\", \"makes 2-pt\", \"misses 2-pt\",\n",
        "        \"Offensive rebound by\", \"Defensive rebound by\",\n",
        "        \"block by\", \"steal by\", \"Turnover by\", \"assist by\",\n",
        "        \"Personal foul by\",\n",
        "        \"makes free throw\", \"misses free throw\",\n",
        "        \"makes clear path free throw\", \"misses clear path free throw\"\n",
        "    ]\n",
        "\n",
        "    actions = [\"3P\", \"3PM\", \"2P\", \"2PM\", \"ORB\", \"DRB\", \"BLK\", \"STL\", \"TOV\", \"AST\", \"PF\", \"FT\", \"FTM\", \"MCPFT\", \"MICPFT\"]\n",
        "\n",
        "    return [(f\"([A-Z]\\. [A-Z]\\w{{1,}}|[A-Z]\\. [A-Z]\\w{{1,}}-\\\\w{{1,}}) {pattern}\", action) for pattern, action in zip(patterns, actions)]\n"
      ],
      "metadata": {
        "id": "XQ0kzE0Ao6aK"
      },
      "execution_count": 4,
      "outputs": []
    },
    {
      "cell_type": "code",
      "source": [
        "# function to process events stored in the instant list, find matches with a specified pattern in each event's description, and update participant counts\n",
        "def transfer(participants, pattern, instant, occasion):\n",
        "    # Create a defaultdict to store the participant names and their corresponding counts\n",
        "    player_counts = defaultdict(int)\n",
        "\n",
        "    # Iterate through the instant and update the participant counts\n",
        "    for trend in instant:\n",
        "        match = re.compile(pattern).search(trend[7])\n",
        "        if match:\n",
        "            player_name = match.group(1)\n",
        "            player_counts[player_name] += 1\n",
        "\n",
        "    # Update the participants dictionary with the incremented counts\n",
        "    for team in [\"home_team\", \"away_team\"]:\n",
        "        for participant in participants[team][\"players_data\"]:\n",
        "            player_name = participant[\"player_name\"]\n",
        "            participant[occasion] += player_counts[player_name]\n",
        "\n"
      ],
      "metadata": {
        "id": "44BQcRubo6Vq"
      },
      "execution_count": 5,
      "outputs": []
    },
    {
      "cell_type": "code",
      "source": [
        "# function to analyze NBA (National Basketball Association) game data.\n",
        "def analyse_nba_game():\n",
        "    # Load variation and initialize details dictionary\n",
        "    variation = content(\"/content/drive/MyDrive/Colab Notebooks/Data/nba_game_warriors_thunder_20181016.txt\")\n",
        "    details = assemble(variation)\n",
        "\n",
        "    # Get upload patterns and apply to participant details\n",
        "    catalog = directory()\n",
        "    for control, model in catalog:\n",
        "        transfer(details, control, variation, model)\n",
        "\n",
        "    # Calculate derived participant statistics\n",
        "    for team in details.values():\n",
        "        for participant in team[\"players_data\"]:\n",
        "            participant[\"FG\"], participant[\"FGA\"], participant[\"3PA\"] = participant[\"3P\"] + participant[\"2P\"], participant[\"3P\"] + participant[\"2P\"], participant[\"3P\"] + participant[\"3PM\"]\n",
        "            participant[\"FT\"], participant[\"FTA\"] = participant[\"FT\"] * 1 + participant[\"MCPFT\"] + participant[\"MICPFT\"], participant[\"FT\"] + participant[\"FTM\"]\n",
        "            participant[\"PTS\"], participant[\"TRB\"] = participant[\"3P\"] * 3 + participant[\"2P\"] * 2 + participant[\"FT\"], participant[\"DRB\"] + participant[\"ORB\"]\n",
        "\n",
        "            # Calculate percentages only if the denominator is not zero\n",
        "            if participant[\"FGA\"] != 0:\n",
        "                participant[\"FG%\"] = round(participant[\"FG\"] / participant[\"FGA\"], 3)\n",
        "            if participant[\"3PA\"] != 0:\n",
        "                participant[\"3P%\"] = round(participant[\"3P\"] / participant[\"3PA\"], 3)\n",
        "            if participant[\"FTA\"] != 0:\n",
        "                participant[\"FT%\"] = round(participant[\"FT\"] / participant[\"FTA\"], 3)\n",
        "\n",
        "    # Remove unnecessary holders from participant details\n",
        "    rid_holder = [\"FGM\", \"2P\", \"2PM\", \"3PM\", \"FTM\", \"MCPFT\", \"MICPFT\"]\n",
        "    for team in details.values():\n",
        "        for participant in team[\"players_data\"]:\n",
        "            for holder in rid_holder:\n",
        "                if holder in participant:\n",
        "                    del participant[holder]\n",
        "\n",
        "    return details\n"
      ],
      "metadata": {
        "id": "zqL41nhPo6SE"
      },
      "execution_count": 6,
      "outputs": []
    },
    {
      "cell_type": "code",
      "source": [
        "def evaluate_sum(group_details):\n",
        "    # Define participant statistics to calculate\n",
        "    participant_reports = [\"FG\", \"FGA\", \"3P\", \"3PA\", \"FT\", \"FTA\", \"ORB\", \"DRB\", \"AST\", \"STL\", \"BLK\", \"TOV\", \"PF\", \"PTS\"]\n",
        "\n",
        "    # Calculate sum for each participant statistic\n",
        "    tally = {report: sum(participant[report] for participant in group_details[\"players_data\"]) for report in participant_reports}\n",
        "\n",
        "    # Initialize percentages fields\n",
        "    tally[\"FG%\"] = 0\n",
        "    tally[\"3P%\"] = 0\n",
        "    tally[\"FT%\"] = 0\n",
        "\n",
        "    # Calculate percentages only if the denominator is not zero\n",
        "    if tally[\"FGA\"] != 0:\n",
        "        tally[\"FG%\"] = round(tally[\"FG\"] / tally[\"FGA\"], 3)\n",
        "    if tally[\"3PA\"] != 0:\n",
        "        tally[\"3P%\"] = round(tally[\"3P\"] / tally[\"3PA\"], 3)\n",
        "    if tally[\"FTA\"] != 0:\n",
        "        tally[\"FT%\"] = round(tally[\"FT\"] / tally[\"FTA\"], 3)\n",
        "\n",
        "    # Calculate total rebounds\n",
        "    tally[\"TRB\"] = tally[\"ORB\"] + tally[\"DRB\"]\n",
        "\n",
        "    # Return the calculated statistics\n",
        "    return tally[\"FG\"], tally[\"FGA\"], tally[\"FG%\"], tally[\"3P\"], tally[\"3PA\"], tally[\"3P%\"], tally[\"FT\"], tally[\"FTA\"], tally[\"FT%\"], tally[\"ORB\"], tally[\"DRB\"], tally[\"TRB\"], tally[\"AST\"], tally[\"STL\"], tally[\"BLK\"], tally[\"TOV\"], tally[\"PF\"], tally[\"PTS\"]\n",
        "\n"
      ],
      "metadata": {
        "id": "0Arsi-1Po6Oc"
      },
      "execution_count": 7,
      "outputs": []
    },
    {
      "cell_type": "code",
      "source": [
        "def main_counter():\n",
        "    # Get participant details from the analysis\n",
        "    players_data = analyse_nba_game()\n",
        "\n",
        "    def print_data(participant):\n",
        "        # Print participant statistics with formatted columns\n",
        "        print(f'{participant[\"player_name\"]:<20} | {participant.get(\"FG\", 0):<5} | {participant.get(\"FGA\", 0):<5} | {participant.get(\"FG%\", 0):<6} | {participant.get(\"3P\", 0):<5} | {participant.get(\"3PA\", 0):<5} | {participant.get(\"3P%\", 0):<6} | {participant.get(\"FT\", 0):<5} | {participant.get(\"FTA\", 0):<5} | {participant.get(\"FT%\", 0):<6} | {participant.get(\"ORB\", 0):<5} | {participant.get(\"DRB\", 0):<5} | {participant.get(\"TRB\", 0):<5} | {participant.get(\"AST\", 0):<5} | {participant.get(\"STL\", 0):<5} | {participant.get(\"BLK\", 0):<5} | {participant.get(\"TOV\", 0):<5} | {participant.get(\"PF\", 0):<5} | {participant.get(\"PTS\", 0):<5} ')\n",
        "\n",
        "    # Print header row\n",
        "    print(f'{\"Players name\":<20} | {\"FG\":<5} | {\"FGA\":<5} | {\"FG%\":<6} | {\"3P\":<5} | {\"3PA\":<5} | {\"3P%\":<6} | {\"FT\":<5} | {\"FTA\":<5} | {\"FT%\":<6} | {\"ORB\":<5} | {\"DRB\":<5} | {\"TRB\":<5} | {\"AST\":<5} | {\"STL\":<5} | {\"BLK\":<5} | {\"TOV\":<5} | {\"PF\":<5} | {\"PTS\":<5} ')\n",
        "\n",
        "    # Print participant details and team totals\n",
        "    for team, group_details in players_data.items():\n",
        "        for participant in group_details[\"players_data\"]:\n",
        "            print_data(participant)\n",
        "\n",
        "        # Calculate team totals\n",
        "        fg, fga, fgp, p3, p3a, p3p, ft, fta, ftp, orb, drb, trb, ast, stl, blk, tov, pf, pts = evaluate_sum(group_details)\n",
        "\n",
        "        # Print team totals\n",
        "        print(f'{\"Team Totals\":<20} | {fg:<5} | {fga:<5} | {fgp:<6} | {p3:<5} | {p3a:<5} | {p3p:<6} | {ft:<5} | {fta:<5} | {ftp:<6} | {orb:<5} | {drb:<5} | {trb:<5} | {ast:<5} | {stl:<5} | {blk:<5} | {tov:<5} | {pf:<5} | {pts:<5} ')\n",
        "        print('\\n')\n",
        "    print(\"\\n\")\n",
        "\n",
        "# Call the main counter function to display the analysis results\n",
        "main_counter()\n"
      ],
      "metadata": {
        "colab": {
          "base_uri": "https://localhost:8080/"
        },
        "id": "Q1j4VO3xo6LG",
        "outputId": "852dc806-9654-4e44-b709-ebf543200443"
      },
      "execution_count": 8,
      "outputs": [
        {
          "output_type": "stream",
          "name": "stdout",
          "text": [
            "Players name         | FG    | FGA   | FG%    | 3P    | 3PA   | 3P%    | FT    | FTA   | FT%    | ORB   | DRB   | TRB   | AST   | STL   | BLK   | TOV   | PF    | PTS   \n",
            "S. Curry             | 11    | 11    | 1.0    | 5     | 9     | 0.556  | 5     | 3     | 1.667  | 0     | 0     | 0     | 0     | 0     | 0     | 0     | 0     | 32    \n",
            "K. Durant            | 9     | 9     | 1.0    | 0     | 5     | 0.0    | 9     | 10    | 0.9    | 0     | 0     | 0     | 0     | 0     | 0     | 0     | 0     | 27    \n",
            "D. Jones             | 6     | 6     | 1.0    | 0     | 0     | 0      | 0     | 0     | 0      | 0     | 0     | 0     | 0     | 0     | 0     | 0     | 0     | 12    \n",
            "D. Green             | 1     | 1     | 1.0    | 0     | 1     | 0.0    | 0     | 0     | 0      | 0     | 0     | 0     | 0     | 0     | 0     | 0     | 0     | 2     \n",
            "K. Thompson          | 5     | 5     | 1.0    | 1     | 8     | 0.125  | 3     | 3     | 1.0    | 0     | 0     | 0     | 0     | 0     | 0     | 0     | 0     | 14    \n",
            "K. Looney            | 5     | 5     | 1.0    | 0     | 0     | 0      | 0     | 0     | 0      | 0     | 0     | 0     | 0     | 0     | 0     | 0     | 0     | 10    \n",
            "A. Iguodala          | 1     | 1     | 1.0    | 0     | 1     | 0.0    | 0     | 0     | 0      | 0     | 0     | 0     | 0     | 0     | 0     | 0     | 0     | 2     \n",
            "Q. Cook              | 1     | 1     | 1.0    | 1     | 1     | 1.0    | 0     | 0     | 0      | 0     | 0     | 0     | 0     | 0     | 0     | 0     | 0     | 3     \n",
            "J. Bell              | 0     | 0     | 0      | 0     | 0     | 0      | 0     | 0     | 0      | 0     | 0     | 0     | 0     | 0     | 0     | 0     | 0     | 0     \n",
            "S. Livingston        | 3     | 3     | 1.0    | 0     | 0     | 0      | 0     | 0     | 0      | 0     | 0     | 0     | 0     | 0     | 0     | 0     | 0     | 6     \n",
            "A. McKinnie          | 0     | 0     | 0      | 0     | 1     | 0.0    | 0     | 0     | 0      | 0     | 0     | 0     | 0     | 0     | 0     | 0     | 0     | 0     \n",
            "Team Totals          | 42    | 42    | 1.0    | 7     | 26    | 0.269  | 17    | 16    | 1.062  | 0     | 0     | 0     | 0     | 0     | 0     | 0     | 0     | 108   \n",
            "\n",
            "\n",
            "S. Adams             | 6     | 6     | 1.0    | 0     | 0     | 0      | 5     | 8     | 0.625  | 0     | 0     | 0     | 0     | 0     | 0     | 0     | 0     | 17    \n",
            "P. George            | 9     | 9     | 1.0    | 4     | 12    | 0.333  | 5     | 8     | 0.625  | 0     | 0     | 0     | 0     | 0     | 0     | 0     | 0     | 27    \n",
            "D. Schröder          | 7     | 7     | 1.0    | 2     | 6     | 0.333  | 5     | 6     | 0.833  | 0     | 0     | 0     | 0     | 0     | 0     | 0     | 0     | 21    \n",
            "P. Patterson         | 2     | 2     | 1.0    | 1     | 4     | 0.25   | 2     | 3     | 0.667  | 0     | 0     | 0     | 0     | 0     | 0     | 0     | 0     | 7     \n",
            "J. Grant             | 2     | 2     | 1.0    | 1     | 4     | 0.25   | 2     | 4     | 0.5    | 0     | 0     | 0     | 0     | 0     | 0     | 0     | 0     | 7     \n",
            "R. Felton            | 1     | 1     | 1.0    | 0     | 3     | 0.0    | 4     | 5     | 0.8    | 0     | 0     | 0     | 0     | 0     | 0     | 0     | 0     | 6     \n",
            "N. Noel              | 1     | 1     | 1.0    | 0     | 0     | 0      | 1     | 2     | 0.5    | 0     | 0     | 0     | 0     | 0     | 0     | 0     | 0     | 3     \n",
            "H. Diallo            | 2     | 2     | 1.0    | 0     | 0     | 0      | 0     | 1     | 0.0    | 0     | 0     | 0     | 0     | 0     | 0     | 0     | 0     | 4     \n",
            "T. Ferguson          | 0     | 0     | 0      | 0     | 2     | 0.0    | 0     | 0     | 0      | 0     | 0     | 0     | 0     | 0     | 0     | 0     | 0     | 0     \n",
            "Team Totals          | 30    | 30    | 1.0    | 8     | 31    | 0.258  | 24    | 37    | 0.649  | 0     | 0     | 0     | 0     | 0     | 0     | 0     | 0     | 92    \n",
            "\n",
            "\n",
            "\n",
            "\n"
          ]
        }
      ]
    },
    {
      "cell_type": "code",
      "source": [],
      "metadata": {
        "id": "mgnqAWF6o6Hg"
      },
      "execution_count": 8,
      "outputs": []
    }
  ]
}